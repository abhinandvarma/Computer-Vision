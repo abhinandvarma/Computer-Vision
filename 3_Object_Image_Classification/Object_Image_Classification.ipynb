{
 "cells": [
  {
   "cell_type": "markdown",
   "metadata": {
    "colab_type": "text",
    "id": "CdT9GJA_V4c8"
   },
   "source": [
    "# Object Image Classification\n",
    "\n",
    "This project automatically identifies the class of each image. \n",
    "\n",
    "20 objects classes with 5-20 examples each in different angles are used as training examples to train a CNN model with the following architecture"
   ]
  },
  {
   "cell_type": "markdown",
   "metadata": {
    "colab_type": "text",
    "id": "uVW3h06JV4c-"
   },
   "source": [
    "######################################################################\n",
    "\n",
    "**Model Architecture**\n",
    "\n",
    "    Layer 1 : Conv2d Layer  (Kernel : (3x3))  (Stride : (1x1))  (Channels : 3->64)\n",
    "    Layer 2 : BatchNorm Layer                                   (Channels :64->64)\n",
    "    Layer 3 : ReLU Activation Output Layer                                        \n",
    "    \n",
    "    Layer 5 : MaxPool Layer (Kernel : (2x2))  (Stride : (2x2))  (Channels :64->64)\n",
    "    \n",
    "    Layer 5 : Conv2d Layer  (Kernel : (3x3))  (Stride : (1x1))  (Channels :64->64)\n",
    "    Layer 6 : BatchNorm Layer                                   (Channels :64->64)\n",
    "    Layer 7 : ReLU Activation Output Layer                                       \n",
    "    \n",
    "    Layer 8 : MaxPool Layer (Kernel : (2x2))  (Stride : (2x2))  (Channels :64->64)\n",
    "    \n",
    "    Layer 9 : Conv2d Layer  (Kernel : (3x3))  (Stride : (1x1))  (Channels :64->128)\n",
    "    Layer 10 :BatchNorm Layer                                   (Channels :128->128)\n",
    "    Layer 11 :ReLU Activation Output Layer                                       \n",
    "    \n",
    "    Layer 12 :MaxPool Layer (Kernel : (2x2))  (Stride : (2x2))  (Channels :128->128)\n",
    "    \n",
    "    Layer 13 :Conv2d Layer  (Kernel : (3x3))  (Stride : (1x1))  (Channels :128->128)\n",
    "    Layer 14 :BatchNorm Layer                                   (Channels :128->128)\n",
    "    Layer 15 :ReLU Activation Output Layer                                        \n",
    "    \n",
    "    Layer 16 :MaxPool Layer (Kernel : (2x2))  (Stride : (2x2))  (Channels :128->128)\n",
    "    \n",
    "    Layer 17 :Conv2d Layer  (Kernel : (3x3))  (Stride : (1x1))  (Channels :128->20)\n",
    "    Layer 18 :BatchNorm Layer                                   (Channels : 20->20)\n",
    "    Layer 19 :ReLU Activation Output Layer    \n",
    "    \n",
    "######################################################################\n",
    "\n",
    "######################################################################\n",
    "\n",
    "**Model Optimization** \n",
    "\n",
    "    Loss : Cross Entropy\n",
    "    Optimizer : SGD (lr : 0.001, momentum : 0.9)\n",
    "    \n",
    "######################################################################\n",
    "\n",
    "######################################################################\n",
    "\n",
    "**Results**\n",
    "\n",
    "    Avg loss (train): 0.0029\n",
    "    Avg acc (train): 0.9983\n",
    "    Avg loss (test): 0.0069\n",
    "    Avg acc (test): 0.9567\n",
    "\n",
    "\n",
    "\n",
    "    Training completed in 11m 43s\n",
    "    Best acc: 0.9567\n",
    "    \n",
    "######################################################################\n",
    "\n"
   ]
  },
  {
   "cell_type": "markdown",
   "metadata": {
    "colab_type": "text",
    "id": "UQlhz3tfV4c_"
   },
   "source": [
    "## Importing required Libraries"
   ]
  },
  {
   "cell_type": "code",
   "execution_count": 0,
   "metadata": {
    "colab": {},
    "colab_type": "code",
    "id": "dOu6WdOMV4dA"
   },
   "outputs": [],
   "source": [
    "from __future__ import print_function\n",
    "import torch\n",
    "import torch.nn as nn\n",
    "import torch.nn.functional as F\n",
    "import torch.optim as optim\n",
    "\n",
    "import torchvision\n",
    "from torchvision import datasets, transforms\n",
    "\n",
    "import matplotlib.pyplot as plt\n",
    "\n",
    "import numpy as np\n",
    "\n",
    "import time\n",
    "import copy\n",
    "\n",
    "import torch.optim as optim\n",
    "from torch.optim import lr_scheduler\n",
    "from torch.autograd import Variable"
   ]
  },
  {
   "cell_type": "markdown",
   "metadata": {
    "colab_type": "text",
    "id": "HTSXZUUKV4dD"
   },
   "source": [
    "## Defining the Model Architecture"
   ]
  },
  {
   "cell_type": "code",
   "execution_count": 0,
   "metadata": {
    "colab": {},
    "colab_type": "code",
    "id": "WKT_efpMV4dE"
   },
   "outputs": [],
   "source": [
    "class Net(nn.Module):\n",
    "\n",
    "    def __init__(self, num_classes=20):\n",
    "        super(Net, self).__init__()\n",
    "        print(\"inside __init__\")\n",
    "        #Conv Layer 1\n",
    "        self.conv1 = nn.Conv2d(3, 64, 3)\n",
    "        self.conv1_bnorm = nn.BatchNorm2d(64)\n",
    "        \n",
    "        #Conv Layer 2\n",
    "        self.conv2 = nn.Conv2d(64, 64, 3)\n",
    "        self.conv2_bnorm = nn.BatchNorm2d(64)\n",
    "\n",
    "        #Conv Layer 3\n",
    "        self.conv3 = nn.Conv2d(64, 128, 3)\n",
    "        self.conv3_bnorm = nn.BatchNorm2d(128)\n",
    "\n",
    "        #Conv Layer 4\n",
    "        self.conv4 = nn.Conv2d(128, 128, 3)\n",
    "        self.conv4_bnorm = nn.BatchNorm2d(128)\n",
    "\n",
    "        \n",
    "        #FC Layer 1\n",
    "        self.fc1   = nn.Linear(128*6*6, 20)\n",
    "        self.fc1_bnorm = nn.BatchNorm1d(20)\n",
    "\n",
    "        \n",
    "    def forward(self, x):\n",
    "        #Conv Layer outputs\n",
    "        \n",
    "        #print(\"inside forward\")\n",
    "        out = F.relu(self.conv1_bnorm(self.conv1(x)))\n",
    "        out = F.max_pool2d(out, 2)\n",
    "        out = F.relu(self.conv2_bnorm(self.conv2(out)))\n",
    "        out = F.max_pool2d(out, 2)\n",
    "        out = F.relu(self.conv3_bnorm(self.conv3(out)))\n",
    "        out = F.max_pool2d(out, 2)\n",
    "        out = F.relu(self.conv4_bnorm(self.conv4(out)))\n",
    "        out = F.max_pool2d(out, 2)\n",
    "        #print(\"out:\",out.shape)\n",
    "        out = out.view(out.size(0), -1)\n",
    "        \n",
    "        #FC Layer outputs\n",
    "        \n",
    "        #print(out.shape)\n",
    "        out = F.relu(self.fc1_bnorm(self.fc1(out)))\n",
    "        return out\n",
    "\n",
    "def net(**kwargs):\n",
    "    model = Net(**kwargs)\n",
    "    return model"
   ]
  },
  {
   "cell_type": "code",
   "execution_count": 0,
   "metadata": {
    "colab": {},
    "colab_type": "code",
    "id": "5DYOxd1qV4dH",
    "outputId": "b8df0cf6-3bd7-4263-e6a3-3fcf7976457f"
   },
   "outputs": [
    {
     "name": "stdout",
     "output_type": "stream",
     "text": [
      "inside __init__\n",
      "Net(\n",
      "  (conv1): Conv2d(3, 64, kernel_size=(3, 3), stride=(1, 1))\n",
      "  (conv1_bnorm): BatchNorm2d(64, eps=1e-05, momentum=0.1, affine=True, track_running_stats=True)\n",
      "  (conv2): Conv2d(64, 64, kernel_size=(3, 3), stride=(1, 1))\n",
      "  (conv2_bnorm): BatchNorm2d(64, eps=1e-05, momentum=0.1, affine=True, track_running_stats=True)\n",
      "  (conv3): Conv2d(64, 128, kernel_size=(3, 3), stride=(1, 1))\n",
      "  (conv3_bnorm): BatchNorm2d(128, eps=1e-05, momentum=0.1, affine=True, track_running_stats=True)\n",
      "  (conv4): Conv2d(128, 128, kernel_size=(3, 3), stride=(1, 1))\n",
      "  (conv4_bnorm): BatchNorm2d(128, eps=1e-05, momentum=0.1, affine=True, track_running_stats=True)\n",
      "  (fc1): Linear(in_features=4608, out_features=20, bias=True)\n",
      "  (fc1_bnorm): BatchNorm1d(20, eps=1e-05, momentum=0.1, affine=True, track_running_stats=True)\n",
      ")\n"
     ]
    }
   ],
   "source": [
    "model=net(num_classes=10)\n",
    "print(model)"
   ]
  },
  {
   "cell_type": "markdown",
   "metadata": {
    "colab_type": "text",
    "id": "qRqbwCAqV4dK"
   },
   "source": [
    "## Loading Dataset"
   ]
  },
  {
   "cell_type": "code",
   "execution_count": 0,
   "metadata": {
    "colab": {},
    "colab_type": "code",
    "id": "kvFnWXDDV4dL",
    "outputId": "5786caeb-8346-40f8-a5fd-5c5de56dfa51",
    "scrolled": true
   },
   "outputs": [
    {
     "name": "stdout",
     "output_type": "stream",
     "text": [
      "Length of Train Set  1157\n",
      "Length of Test Set  277\n",
      "Number of batches in Train set : 47\n",
      "Number of batches in Test set : 12\n",
      "Loaded 1157 images under train\n",
      "Loaded 277 images under test\n",
      "Classes: \n",
      "['0', '1', '10', '11', '12', '13', '14', '15', '16', '17', '18', '19', '2', '3', '4', '5', '6', '7', '8', '9']\n"
     ]
    }
   ],
   "source": [
    "train=\"data/Train\"\n",
    "test=\"data/Test\"\n",
    "\n",
    "#Loading Train set\n",
    "dataset_train=datasets.ImageFolder(\n",
    "                root=train,\n",
    "                transform=transforms.Compose([\n",
    "                    transforms.Resize(126),\n",
    "                    transforms.ToTensor(),\n",
    "                    #transforms.Lambda(lambda x: x.repeat(3,1,1)),\n",
    "                    transforms.Normalize([0.2545,0.2545,0.2545], [0.3846,0.3846,0.3846])\n",
    "                ]))\n",
    "print(\"Length of Train Set \", len(dataset_train))\n",
    "\n",
    "#Loading Test set\n",
    "dataset_test=datasets.ImageFolder(\n",
    "                root=test,\n",
    "                transform=transforms.Compose([\n",
    "                    transforms.Resize(126),\n",
    "                    transforms.ToTensor(),\n",
    "                    #transforms.Lambda(lambda x: x.repeat(3,1,1)),\n",
    "                    transforms.Normalize([0.2545,0.2545,0.2545], [0.3846,0.3846,0.3846])\n",
    "                ]))\n",
    "print(\"Length of Test Set \", len(dataset_test))\n",
    "\n",
    "#Computing number of batches, given Batch Size = 25\n",
    "dataloaders_train = torch.utils.data.DataLoader(\n",
    "            dataset_train,\n",
    "            batch_size=25, shuffle=True, num_workers=4)\n",
    "\n",
    "dataloaders_test = torch.utils.data.DataLoader(\n",
    "            dataset_test,\n",
    "            batch_size=25, shuffle=True, num_workers=4)\n",
    "\n",
    "\n",
    "print(\"Number of batches in Train set :\", len(dataloaders_train))\n",
    "print(\"Number of batches in Test set :\", len(dataloaders_test))\n",
    "\n",
    "\n",
    "print(\"Loaded {} images under {}\".format(len(dataset_train), \"train\"))\n",
    "print(\"Loaded {} images under {}\".format(len(dataset_test), \"test\"))\n",
    "print(\"Classes: \")\n",
    "class_names = dataset_train.classes\n",
    "print(dataset_train.classes)\n",
    "#print(len(dataset_train[0]))"
   ]
  },
  {
   "cell_type": "markdown",
   "metadata": {
    "colab_type": "text",
    "id": "zv8eoloeV4dN"
   },
   "source": [
    "## Displaying a random sample of data"
   ]
  },
  {
   "cell_type": "code",
   "execution_count": 0,
   "metadata": {
    "colab": {},
    "colab_type": "code",
    "id": "_whmD9LZV4dO",
    "outputId": "cb0086a1-8db8-4662-e3d2-7d8aa3350497"
   },
   "outputs": [
    {
     "name": "stderr",
     "output_type": "stream",
     "text": [
      "Clipping input data to the valid range for imshow with RGB data ([0..1] for floats or [0..255] for integers).\n"
     ]
    },
    {
     "data": {
      "image/png": "[encoded data removed]",
      "text/plain": [
       "<Figure size 432x288 with 1 Axes>"
      ]
     },
     "metadata": {
      "needs_background": "light",
      "tags": []
     },
     "output_type": "display_data"
    }
   ],
   "source": [
    "#Function to show sample of Train data\n",
    "def imshow(inp, title=None):\n",
    "    inp = inp.numpy().transpose((1, 2, 0))\n",
    "    # plt.figure(figsize=(10, 10))\n",
    "    plt.axis('off')\n",
    "    plt.imshow(inp)\n",
    "    if title is not None:\n",
    "        plt.title(title)\n",
    "    plt.pause(0.001)\n",
    "\n",
    "def show_databatch(inputs, classes):\n",
    "    out = torchvision.utils.make_grid(inputs,7)\n",
    "    imshow(out, title=[class_names[x] for x in classes])\n",
    "\n",
    "# Get a batch of training data\n",
    "inputs, classes = next(iter(dataloaders_train))\n",
    "show_databatch(inputs, classes)\n",
    "\n",
    "#for i, data in enumerate(dataloaders))\n",
    "#print(train[0])"
   ]
  },
  {
   "cell_type": "markdown",
   "metadata": {
    "colab_type": "text",
    "id": "EB5WPk4cV4dR"
   },
   "source": [
    "## Defining model function along with parameters"
   ]
  },
  {
   "cell_type": "code",
   "execution_count": 0,
   "metadata": {
    "colab": {},
    "colab_type": "code",
    "id": "pLX1Pw1XV4dR"
   },
   "outputs": [],
   "source": [
    "def train_model(model, criterion, optimizer, scheduler, num_epochs):\n",
    "    since = time.time()\n",
    "    best_model_wts = copy.deepcopy(model.state_dict())\n",
    "    best_acc = 0.0\n",
    "    \n",
    "    avg_loss = 0.0\n",
    "    avg_acc = 0.0\n",
    "    avg_loss_test = 0.0\n",
    "    avg_acc_test = 0.0\n",
    "\n",
    "    train_batches = len(dataloaders_train)\n",
    "    test_batches = len(dataloaders_test)\n",
    "    \n",
    "    for epoch in range(num_epochs):\n",
    "        print(\"Epoch {}/{}\".format(epoch, num_epochs))\n",
    "        print('-' * 10)\n",
    "        \n",
    "        loss_train = 0\n",
    "        loss_test = 0\n",
    "        acc_train = 0\n",
    "        acc_test = 0\n",
    "        \n",
    "        model.train(True)\n",
    "        \n",
    "        for i, data in enumerate(dataloaders_train):\n",
    "           \n",
    "            inputs, labels = data\n",
    "            \n",
    "            if use_gpu:\n",
    "                inputs, labels = Variable(inputs.cuda()), Variable(labels.cuda())\n",
    "            else:\n",
    "                inputs, labels = Variable(inputs), Variable(labels)\n",
    "            \n",
    "            optimizer.zero_grad()\n",
    "            #print(\"model calling\")\n",
    "            outputs = model(inputs)\n",
    "            \n",
    "            _, preds = torch.max(outputs.data, 1)\n",
    "            loss = criterion(outputs, labels)\n",
    "            \n",
    "            loss.backward()\n",
    "            optimizer.step()\n",
    "            \n",
    "            loss_train += loss.data\n",
    "            acc_train += torch.sum(preds == labels.data)\n",
    "            #print(\"acc_train=\",acc_train)\n",
    "            del inputs, labels, outputs, preds\n",
    "            torch.cuda.empty_cache()\n",
    "        \n",
    "        print()\n",
    "        # * 2 as we only used half of the dataset\n",
    "        avg_loss = loss_train  / len(dataset_train)\n",
    "        #print(\"before avg acc=\",acc_train)\n",
    "        print(10*\"*\")\n",
    "        avg_acc = float(acc_train.data) / float(len(dataset_train))\n",
    "        \n",
    "        model.train(False)\n",
    "        model.eval()\n",
    "            \n",
    "        for i, data in enumerate(dataloaders_test):\n",
    "            #if i % 100 == 0:\n",
    "            #print(\"Test batch \\n\")#{}/{}\".format(i, test_batches), end='', flush=True)\n",
    "                \n",
    "            inputs, labels = data\n",
    "            \n",
    "            if use_gpu:\n",
    "                inputs, labels = Variable(inputs.cuda(), volatile=True), Variable(labels.cuda(), volatile=True)\n",
    "            else:\n",
    "                inputs, labels = Variable(inputs, volatile=True), Variable(labels, volatile=True)\n",
    "            \n",
    "            optimizer.zero_grad()\n",
    "            \n",
    "            outputs = model(inputs)\n",
    "            \n",
    "            _, preds = torch.max(outputs.data, 1)\n",
    "            loss = criterion(outputs, labels)\n",
    "            \n",
    "            loss_test += loss.data\n",
    "            acc_test += torch.sum(preds == labels.data)\n",
    "            \n",
    "            del inputs, labels, outputs, preds\n",
    "            torch.cuda.empty_cache()\n",
    "        \n",
    "        avg_loss_test = (loss_test) / len(dataset_test)\n",
    "        avg_acc_test = float(acc_test) / float(len(dataset_test))\n",
    "        \n",
    "        print()\n",
    "        print(\"Epoch {} result: \".format(epoch))\n",
    "        print(\"Avg loss (train): {:.4f}\".format(avg_loss))\n",
    "        print(\"Avg acc (train): {:.4f}\".format(avg_acc))\n",
    "        print(\"Avg loss (test): {:.4f}\".format(avg_loss_test))\n",
    "        print(\"Avg acc (test): {:.4f}\".format(avg_acc_test))\n",
    "        print('-' * 10)\n",
    "        print()\n",
    "        \n",
    "        if avg_acc_test > best_acc:\n",
    "            best_acc = avg_acc_test\n",
    "            best_model_wts = copy.deepcopy(model.state_dict())\n",
    "        \n",
    "    elapsed_time = time.time() - since\n",
    "    print()\n",
    "    print(\"Training completed in {:.0f}m {:.0f}s\".format(elapsed_time // 60, elapsed_time % 60))\n",
    "    print(\"Best acc: {:.4f}\".format(best_acc))\n",
    "    \n",
    "    model.load_state_dict(best_model_wts)\n",
    "    return model"
   ]
  },
  {
   "cell_type": "markdown",
   "metadata": {
    "colab_type": "text",
    "id": "dKS6SWS_V4dT"
   },
   "source": [
    "## Deploying the Model"
   ]
  },
  {
   "cell_type": "code",
   "execution_count": 0,
   "metadata": {
    "colab": {},
    "colab_type": "code",
    "id": "b-zbBkm-V4dT",
    "outputId": "9bb02983-f457-4c8f-d893-f6979de0d525"
   },
   "outputs": [
    {
     "name": "stdout",
     "output_type": "stream",
     "text": [
      "Training\n",
      "Epoch 0/10\n",
      "----------\n",
      "\n",
      "**********\n"
     ]
    },
    {
     "name": "stderr",
     "output_type": "stream",
     "text": [
      "/opt/anaconda3/lib/python3.7/site-packages/ipykernel_launcher.py:69: UserWarning: volatile was removed and now has no effect. Use `with torch.no_grad():` instead.\n"
     ]
    },
    {
     "name": "stdout",
     "output_type": "stream",
     "text": [
      "\n",
      "Epoch 0 result: \n",
      "Avg loss (train): 0.0734\n",
      "Avg acc (train): 0.6698\n",
      "Avg loss (test): 0.0690\n",
      "Avg acc (test): 0.8448\n",
      "----------\n",
      "\n",
      "Epoch 1/10\n",
      "----------\n",
      "\n",
      "**********\n",
      "\n",
      "Epoch 1 result: \n",
      "Avg loss (train): 0.0550\n",
      "Avg acc (train): 0.9032\n",
      "Avg loss (test): 0.0462\n",
      "Avg acc (test): 0.9783\n",
      "----------\n",
      "\n",
      "Epoch 2/10\n",
      "----------\n",
      "\n",
      "**********\n",
      "\n",
      "Epoch 2 result: \n",
      "Avg loss (train): 0.0483\n",
      "Avg acc (train): 0.9559\n",
      "Avg loss (test): 0.0426\n",
      "Avg acc (test): 0.9928\n",
      "----------\n",
      "\n",
      "Epoch 3/10\n",
      "----------\n",
      "\n",
      "**********\n",
      "\n",
      "Epoch 3 result: \n",
      "Avg loss (train): 0.0449\n",
      "Avg acc (train): 0.9594\n",
      "Avg loss (test): 0.0379\n",
      "Avg acc (test): 0.9892\n",
      "----------\n",
      "\n",
      "Epoch 4/10\n",
      "----------\n",
      "\n",
      "**********\n",
      "\n",
      "Epoch 4 result: \n",
      "Avg loss (train): 0.0412\n",
      "Avg acc (train): 0.9784\n",
      "Avg loss (test): 0.0356\n",
      "Avg acc (test): 0.9928\n",
      "----------\n",
      "\n",
      "Epoch 5/10\n",
      "----------\n",
      "\n",
      "**********\n",
      "\n",
      "Epoch 5 result: \n",
      "Avg loss (train): 0.0376\n",
      "Avg acc (train): 0.9810\n",
      "Avg loss (test): 0.0301\n",
      "Avg acc (test): 0.9892\n",
      "----------\n",
      "\n",
      "Epoch 6/10\n",
      "----------\n",
      "\n",
      "**********\n",
      "\n",
      "Epoch 6 result: \n",
      "Avg loss (train): 0.0347\n",
      "Avg acc (train): 0.9888\n",
      "Avg loss (test): 0.0312\n",
      "Avg acc (test): 1.0000\n",
      "----------\n",
      "\n",
      "Epoch 7/10\n",
      "----------\n",
      "\n",
      "**********\n",
      "\n",
      "Epoch 7 result: \n",
      "Avg loss (train): 0.0332\n",
      "Avg acc (train): 0.9836\n",
      "Avg loss (test): 0.0313\n",
      "Avg acc (test): 0.9928\n",
      "----------\n",
      "\n",
      "Epoch 8/10\n",
      "----------\n",
      "\n",
      "**********\n",
      "\n",
      "Epoch 8 result: \n",
      "Avg loss (train): 0.0300\n",
      "Avg acc (train): 0.9957\n",
      "Avg loss (test): 0.0264\n",
      "Avg acc (test): 0.9783\n",
      "----------\n",
      "\n",
      "Epoch 9/10\n",
      "----------\n",
      "\n",
      "**********\n",
      "\n",
      "Epoch 9 result: \n",
      "Avg loss (train): 0.0291\n",
      "Avg acc (train): 0.9948\n",
      "Avg loss (test): 0.0251\n",
      "Avg acc (test): 1.0000\n",
      "----------\n",
      "\n",
      "\n",
      "Training completed in 8m 41s\n",
      "Best acc: 1.0000\n"
     ]
    },
    {
     "data": {
      "text/plain": [
       "Net(\n",
       "  (conv1): Conv2d(3, 64, kernel_size=(3, 3), stride=(1, 1))\n",
       "  (conv1_bnorm): BatchNorm2d(64, eps=1e-05, momentum=0.1, affine=True, track_running_stats=True)\n",
       "  (conv2): Conv2d(64, 64, kernel_size=(3, 3), stride=(1, 1))\n",
       "  (conv2_bnorm): BatchNorm2d(64, eps=1e-05, momentum=0.1, affine=True, track_running_stats=True)\n",
       "  (conv3): Conv2d(64, 128, kernel_size=(3, 3), stride=(1, 1))\n",
       "  (conv3_bnorm): BatchNorm2d(128, eps=1e-05, momentum=0.1, affine=True, track_running_stats=True)\n",
       "  (conv4): Conv2d(128, 128, kernel_size=(3, 3), stride=(1, 1))\n",
       "  (conv4_bnorm): BatchNorm2d(128, eps=1e-05, momentum=0.1, affine=True, track_running_stats=True)\n",
       "  (fc1): Linear(in_features=4608, out_features=20, bias=True)\n",
       "  (fc1_bnorm): BatchNorm1d(20, eps=1e-05, momentum=0.1, affine=True, track_running_stats=True)\n",
       ")"
      ]
     },
     "execution_count": 7,
     "metadata": {
      "tags": []
     },
     "output_type": "execute_result"
    }
   ],
   "source": [
    "use_gpu = torch.cuda.is_available()\n",
    "\n",
    "#cuda() will move everything to the GPU side\n",
    "if use_gpu:\n",
    "    model.cuda() \n",
    "\n",
    "\n",
    "for param in model.parameters():\n",
    "    #print (\"param:p\",param)\n",
    "    param.requires_grad = True\n",
    "\n",
    "    \n",
    "criterion = nn.CrossEntropyLoss()\n",
    "\n",
    "optimizer_ft = optim.SGD(model.parameters(), lr=0.001, momentum=0.9)\n",
    "lr_scheduler = lr_scheduler.StepLR(optimizer_ft, step_size=7, gamma=0.1)\n",
    "\n",
    "#print(\"Test before training\")\n",
    "#eval_model(model, criterion)\n",
    "\n",
    "\n",
    "print(\"Training\")\n",
    "train_model(model, criterion, optimizer_ft, lr_scheduler, 10)\n",
    "\n",
    "#print(\"Test after training\")\n",
    "#eval_model(model, criterion)"
   ]
  },
  {
   "cell_type": "code",
   "execution_count": 0,
   "metadata": {
    "colab": {},
    "colab_type": "code",
    "id": "OiBYD7VSV4dV"
   },
   "outputs": [],
   "source": [
    "torch.save(model.state_dict(), 'Model_params.pt' )"
   ]
  },
  {
   "cell_type": "code",
   "execution_count": 0,
   "metadata": {
    "colab": {},
    "colab_type": "code",
    "id": "k3wOHwM-V4dX"
   },
   "outputs": [],
   "source": []
  }
 ],
 "metadata": {
  "colab": {
   "name": "Object Image Classification.ipynb",
   "provenance": []
  },
  "kernelspec": {
   "display_name": "Python 3",
   "language": "python",
   "name": "python3"
  },
  "language_info": {
   "codemirror_mode": {
    "name": "ipython",
    "version": 3
   },
   "file_extension": ".py",
   "mimetype": "text/x-python",
   "name": "python",
   "nbconvert_exporter": "python",
   "pygments_lexer": "ipython3",
   "version": "3.7.1"
  }
 },
 "nbformat": 4,
 "nbformat_minor": 1
}
