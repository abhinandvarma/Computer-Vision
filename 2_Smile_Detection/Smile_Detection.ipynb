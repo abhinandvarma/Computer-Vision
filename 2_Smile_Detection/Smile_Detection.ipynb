{
 "cells": [
  {
   "cell_type": "markdown",
   "metadata": {},
   "source": [
    "# Smile Detection using HoG features\n",
    "\n",
    "A project to implement a classifier to detect emotions on human faces. The training data had 2 classes, Smiling or Not Smiling. I trained an SVM classifier using HoG features extracted from image samples.\n",
    "\n",
    "Achieved an F1 score of 0.79"
   ]
  },
  {
   "cell_type": "markdown",
   "metadata": {},
   "source": [
    "## Importing Libraries"
   ]
  },
  {
   "cell_type": "code",
   "execution_count": 1,
   "metadata": {},
   "outputs": [],
   "source": [
    "import numpy as np\n",
    "import pandas as pd\n",
    "from matplotlib import pyplot as plt\n",
    "import json\n",
    "\n",
    "from skimage import color\n",
    "from skimage.feature import hog\n",
    "from sklearn import svm\n",
    "from sklearn.metrics import classification_report,accuracy_score"
   ]
  },
  {
   "cell_type": "markdown",
   "metadata": {},
   "source": [
    "## Importing data"
   ]
  },
  {
   "cell_type": "code",
   "execution_count": 2,
   "metadata": {},
   "outputs": [],
   "source": [
    "#Reading raw data\n",
    "data = pd.read_csv(\"input.csv\")"
   ]
  },
  {
   "cell_type": "markdown",
   "metadata": {},
   "source": [
    "## Data Preprocessing"
   ]
  },
  {
   "cell_type": "code",
   "execution_count": 3,
   "metadata": {},
   "outputs": [],
   "source": [
    "#Splitting raw data into train and test\n",
    "data_train = data[data.Usage == 'Training']\n",
    "data_public_test = data[data.Usage == 'PublicTest']\n",
    "data_private_test = data[data.Usage == 'PrivateTest']"
   ]
  },
  {
   "cell_type": "code",
   "execution_count": 4,
   "metadata": {},
   "outputs": [],
   "source": [
    "def data_split(dataframe):\n",
    "    #numpy array with pixel values split\n",
    "    pixels_copy = np.array(dataframe.pixels.str.split(' ').tolist()).astype('uint8')\n",
    "    \n",
    "    n = np.empty(shape = (len(pixels_copy),48,48))\n",
    "    for x in range(len(pixels_copy)):\n",
    "        n[x] = pixels_copy[x].reshape(48,48).transpose([0,1])\n",
    "        \n",
    "    data_series = np.array(n)\n",
    "    label_series = np.array(dataframe.iloc[:,0])\n",
    "    \n",
    "    return(data_series, label_series)"
   ]
  },
  {
   "cell_type": "code",
   "execution_count": 5,
   "metadata": {},
   "outputs": [],
   "source": [
    "#Train and Test sets with pixels split\n",
    "X_train, Y_train = data_split(data_train)\n",
    "X_public_test, Y_public_test = data_split(data_public_test)\n",
    "X_private_test, Y_private_test = data_split(data_private_test)"
   ]
  },
  {
   "cell_type": "code",
   "execution_count": 6,
   "metadata": {},
   "outputs": [
    {
     "data": {
      "text/plain": [
       "<matplotlib.image.AxesImage at 0x1d0a018940>"
      ]
     },
     "execution_count": 6,
     "metadata": {},
     "output_type": "execute_result"
    },
    {
     "data": {
      "image/png": "[encoded data removed]",
      "text/plain": [
       "<Figure size 432x288 with 1 Axes>"
      ]
     },
     "metadata": {
      "needs_background": "light"
     },
     "output_type": "display_data"
    }
   ],
   "source": [
    "plt.imshow(X_train[28687], cmap='gray', vmin=0, vmax=255)"
   ]
  },
  {
   "cell_type": "markdown",
   "metadata": {},
   "source": [
    "## HoG feature extraction"
   ]
  },
  {
   "cell_type": "code",
   "execution_count": 7,
   "metadata": {},
   "outputs": [],
   "source": [
    "#HoG feature extraction\n",
    "def do_features(x_test, y_test):\n",
    "    ppc = 8\n",
    "    hog_images = []\n",
    "    hog_features = []\n",
    "    fd = []\n",
    "    hog_image = []\n",
    "    for image in x_test:\n",
    "        fd,hog_image = hog(image, orientations=8, pixels_per_cell=(ppc,ppc),cells_per_block=(2, 2),block_norm= 'L2-Hys',visualise=True)\n",
    "        hog_images.append(hog_image)\n",
    "        hog_features.append(fd)\n",
    "        \n",
    "    return(hog_features, hog_images, y_test)"
   ]
  },
  {
   "cell_type": "code",
   "execution_count": 8,
   "metadata": {},
   "outputs": [
    {
     "name": "stderr",
     "output_type": "stream",
     "text": [
      "/Users/MrVarma/anaconda3/lib/python3.7/site-packages/skimage/feature/_hog.py:239: skimage_deprecation: Argument `visualise` is deprecated and will be changed to `visualize` in v0.16\n",
      "  'be changed to `visualize` in v0.16', skimage_deprecation)\n"
     ]
    }
   ],
   "source": [
    "X_hog_train, hog_train_images, Y_hog_train = do_features(X_train, Y_train)\n",
    "X_hog_public_test, hog_public_test_images, Y_hog_public_test = do_features(X_public_test, Y_public_test)\n",
    "#X_hog_private_test, hog_private_test_images, Y_hog_private_test = do_features(X_private_test, Y_private_test)"
   ]
  },
  {
   "cell_type": "code",
   "execution_count": 9,
   "metadata": {},
   "outputs": [
    {
     "name": "stdout",
     "output_type": "stream",
     "text": [
      "800\n"
     ]
    },
    {
     "data": {
      "image/png": "[encoded data removed]",
      "text/plain": [
       "<Figure size 432x288 with 1 Axes>"
      ]
     },
     "metadata": {
      "needs_background": "light"
     },
     "output_type": "display_data"
    }
   ],
   "source": [
    "plt.imshow(hog_train_images[28687])\n",
    "print(len(X_hog_train[28687]))"
   ]
  },
  {
   "cell_type": "markdown",
   "metadata": {},
   "source": [
    "## SVM Classifier"
   ]
  },
  {
   "cell_type": "code",
   "execution_count": 10,
   "metadata": {},
   "outputs": [],
   "source": [
    "clf = svm.SVC()"
   ]
  },
  {
   "cell_type": "code",
   "execution_count": 11,
   "metadata": {},
   "outputs": [
    {
     "name": "stderr",
     "output_type": "stream",
     "text": [
      "/Users/MrVarma/anaconda3/lib/python3.7/site-packages/sklearn/svm/base.py:193: FutureWarning: The default value of gamma will change from 'auto' to 'scale' in version 0.22 to account better for unscaled features. Set gamma explicitly to 'auto' or 'scale' to avoid this warning.\n",
      "  \"avoid this warning.\", FutureWarning)\n"
     ]
    },
    {
     "data": {
      "text/plain": [
       "SVC(C=1.0, cache_size=200, class_weight=None, coef0=0.0,\n",
       "    decision_function_shape='ovr', degree=3, gamma='auto_deprecated',\n",
       "    kernel='rbf', max_iter=-1, probability=False, random_state=None,\n",
       "    shrinking=True, tol=0.001, verbose=False)"
      ]
     },
     "execution_count": 11,
     "metadata": {},
     "output_type": "execute_result"
    }
   ],
   "source": [
    "clf.fit(X_hog_train,Y_hog_train)"
   ]
  },
  {
   "cell_type": "code",
   "execution_count": 12,
   "metadata": {},
   "outputs": [],
   "source": [
    "y_pred = clf.predict(X_hog_public_test)"
   ]
  },
  {
   "cell_type": "markdown",
   "metadata": {},
   "source": [
    "## Model Evaluation"
   ]
  },
  {
   "cell_type": "code",
   "execution_count": 13,
   "metadata": {},
   "outputs": [
    {
     "name": "stdout",
     "output_type": "stream",
     "text": [
      "Accuracy:  0.7901922541097799\n",
      "\n",
      "\n",
      "              precision    recall  f1-score   support\n",
      "\n",
      "           0       0.78      0.99      0.88      2694\n",
      "           1       0.91      0.18      0.30       895\n",
      "\n",
      "    accuracy                           0.79      3589\n",
      "   macro avg       0.85      0.59      0.59      3589\n",
      "weighted avg       0.82      0.79      0.73      3589\n",
      "\n"
     ]
    }
   ],
   "source": [
    "print(\"Accuracy: \",(accuracy_score(Y_hog_public_test, y_pred)))\n",
    "print('\\n')\n",
    "print(classification_report(Y_hog_public_test, y_pred))"
   ]
  },
  {
   "cell_type": "code",
   "execution_count": 89,
   "metadata": {},
   "outputs": [
    {
     "name": "stdout",
     "output_type": "stream",
     "text": [
      "Accuracy:  0.7880803929081472\n",
      "\n",
      "\n",
      "              precision    recall  f1-score   support\n",
      "\n",
      "           0       0.78      0.99      0.88     21494\n",
      "           1       0.89      0.18      0.30      7215\n",
      "\n",
      "    accuracy                           0.79     28709\n",
      "   macro avg       0.84      0.59      0.59     28709\n",
      "weighted avg       0.81      0.79      0.73     28709\n",
      "\n"
     ]
    }
   ],
   "source": [
    "y_train_pred = clf.predict(X_hog_train)\n",
    "print(\"Accuracy: \",(accuracy_score(Y_hog_train, y_train_pred)))\n",
    "print('\\n')\n",
    "print(classification_report(Y_hog_train, y_train_pred))"
   ]
  },
  {
   "cell_type": "code",
   "execution_count": 88,
   "metadata": {},
   "outputs": [],
   "source": [
    "np.savetxt('HoG_features.csv', X_hog_train, fmt = '%.6f', delimiter = ',')"
   ]
  },
  {
   "cell_type": "code",
   "execution_count": 87,
   "metadata": {},
   "outputs": [],
   "source": [
    "test_label = list(data_public_test.index)\n",
    "output = np.array((y_pred, test_label), dtype = 'int').T\n",
    "\n",
    "np.savetxt(\"Output.csv\", output, fmt = '%i', delimiter = ',')"
   ]
  },
  {
   "cell_type": "code",
   "execution_count": null,
   "metadata": {},
   "outputs": [],
   "source": []
  }
 ],
 "metadata": {
  "kernelspec": {
   "display_name": "Python 3",
   "language": "python",
   "name": "python3"
  },
  "language_info": {
   "codemirror_mode": {
    "name": "ipython",
    "version": 3
   },
   "file_extension": ".py",
   "mimetype": "text/x-python",
   "name": "python",
   "nbconvert_exporter": "python",
   "pygments_lexer": "ipython3",
   "version": "3.7.1"
  }
 },
 "nbformat": 4,
 "nbformat_minor": 2
}
