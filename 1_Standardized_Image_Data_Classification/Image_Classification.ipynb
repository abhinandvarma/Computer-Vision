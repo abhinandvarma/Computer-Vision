{
 "cells": [
  {
   "cell_type": "markdown",
   "metadata": {},
   "source": [
    "# An Image Classifer using CNN\n",
    "\n",
    "A project to classify a 10 label dataset (60000 for training and 10000 for testing)\n",
    "\n",
    "I have used the following architecture"
   ]
  },
  {
   "cell_type": "markdown",
   "metadata": {},
   "source": [
    "#########################################\n",
    "\n",
    "    The Train Data is split into ----> Validation + Train (0.33:0.67) where Train is again split into Train + Val (0.2:0.8)\n",
    "    \n",
    "    Both the Train and Test data are standardized\n",
    "    \n",
    "    The Labels are \"ONE HOT ENCODED\"\n",
    "    \n",
    "#########################################\n",
    "\n",
    "#########################################\n",
    "##### Model architecture\n",
    "\n",
    "    Convolutional Layer (3x3)x16 RELU\n",
    "    Convolutional Layer (3x3)x16 RELU\n",
    "\n",
    "    MaxPool Layer (2x2)\n",
    "\n",
    "    Convolutional Layer (5x5)x32 RELU\n",
    "    Convolutional Layer (5x5)x32 RELU\n",
    "\n",
    "    MaxPool Layer (2x2)\n",
    "\n",
    "    Dropout Layer 0.3\n",
    "\n",
    "    Dense Layer 1024 RELU\n",
    "\n",
    "    Dense Layer 10 SOFTMAX\n",
    "    \n",
    "#########################################\n",
    "\n",
    "#########################################\n",
    "##### Model Optimization \n",
    "    \n",
    "    Loss : Categorical Crossentropy\n",
    "    Optimizer : ADAM\n",
    "    Metric : Categorical Accuracy\n",
    "    \n",
    "#########################################\n",
    "    \n",
    "#########################################\n",
    "##### Model Observations \n",
    "\n",
    "    Model starts to overfit after 8th epoch\n",
    "    \n",
    "    Model Training Accuracy : 95.11%\n",
    "    \n",
    "    Model Val Accuracy : 91.64%  <---- Split from X_train\n",
    "    \n",
    "    Model Validation : 91.621% <---- Split from Test Data\n",
    "\n",
    "#########################################"
   ]
  },
  {
   "cell_type": "markdown",
   "metadata": {},
   "source": [
    "## Importing required libraries"
   ]
  },
  {
   "cell_type": "code",
   "execution_count": 1,
   "metadata": {},
   "outputs": [],
   "source": [
    "import numpy as np\n",
    "# random seed for reproducibility\n",
    "np.random.seed(123)\n",
    "\n",
    "from sklearn.model_selection import train_test_split\n",
    "import pandas as pd"
   ]
  },
  {
   "cell_type": "code",
   "execution_count": 2,
   "metadata": {},
   "outputs": [
    {
     "name": "stderr",
     "output_type": "stream",
     "text": [
      "Using TensorFlow backend.\n"
     ]
    }
   ],
   "source": [
    "from keras.models import Sequential\n",
    "from keras.layers import Dense\n",
    "from keras.layers import Dropout\n",
    "from keras.layers import Flatten\n",
    "from keras.layers import Conv2D, MaxPooling2D\n",
    "from keras.layers.normalization import BatchNormalization\n",
    "from keras import regularizers\n",
    "#Now we will import some utilities\n",
    "from keras.utils import np_utils\n",
    "#Fixed dimension ordering issue\n",
    "from keras import backend as K\n",
    "from keras.models import model_from_json\n",
    "\n",
    "import keras"
   ]
  },
  {
   "cell_type": "markdown",
   "metadata": {},
   "source": [
    "## Loading data"
   ]
  },
  {
   "cell_type": "code",
   "execution_count": 3,
   "metadata": {},
   "outputs": [],
   "source": [
    "Train_data = np.load('training_data.npy')\n",
    "Train_labels = np.load('training_label.npy')\n",
    "Test_data = np.load('testing_data.npy')"
   ]
  },
  {
   "cell_type": "markdown",
   "metadata": {},
   "source": [
    "## Preprocessing the data "
   ]
  },
  {
   "cell_type": "code",
   "execution_count": 4,
   "metadata": {},
   "outputs": [],
   "source": [
    "Train_data = Train_data - np.mean(Train_data) / Train_data.std()\n",
    "Test_data = Test_data - np.mean(Test_data) / Test_data.std()\n",
    "Train_labels = np_utils.to_categorical(Train_labels)"
   ]
  },
  {
   "cell_type": "code",
   "execution_count": 5,
   "metadata": {},
   "outputs": [],
   "source": [
    "X_train, X_val, Y_train, Y_val = train_test_split(Train_data, Train_labels, test_size=0.33, random_state=42)"
   ]
  },
  {
   "cell_type": "code",
   "execution_count": 6,
   "metadata": {},
   "outputs": [],
   "source": [
    "num_classes=Train_labels.shape[1]"
   ]
  },
  {
   "cell_type": "markdown",
   "metadata": {},
   "source": [
    "## Model\n"
   ]
  },
  {
   "cell_type": "markdown",
   "metadata": {},
   "source": [
    "### Model Architecture\n",
    "\n",
    "    Convolutional Layer (3x3)x16 RELU\n",
    "    Convolutional Layer (3x3)x16 RELU\n",
    "    \n",
    "    MaxPool Layer (2x2)\n",
    "    \n",
    "    Convolutional Layer (5x5)x32 RELU\n",
    "    Convolutional Layer (5x5)x32 RELU\n",
    "    \n",
    "    MaxPool Layer (2x2)\n",
    "\n",
    "    Dropout Layer 0.3\n",
    "    \n",
    "    Dense Layer 1024 RELU\n",
    "    \n",
    "    Dense Layer 10 SOFTMAX"
   ]
  },
  {
   "cell_type": "code",
   "execution_count": 7,
   "metadata": {},
   "outputs": [
    {
     "name": "stderr",
     "output_type": "stream",
     "text": [
      "WARNING: Logging before flag parsing goes to stderr.\n",
      "W0721 17:36:48.834930 140182200805184 deprecation_wrapper.py:119] From /opt/anaconda3/lib/python3.7/site-packages/keras/backend/tensorflow_backend.py:74: The name tf.get_default_graph is deprecated. Please use tf.compat.v1.get_default_graph instead.\n",
      "\n",
      "W0721 17:36:48.854800 140182200805184 deprecation_wrapper.py:119] From /opt/anaconda3/lib/python3.7/site-packages/keras/backend/tensorflow_backend.py:517: The name tf.placeholder is deprecated. Please use tf.compat.v1.placeholder instead.\n",
      "\n",
      "W0721 17:36:48.857493 140182200805184 deprecation_wrapper.py:119] From /opt/anaconda3/lib/python3.7/site-packages/keras/backend/tensorflow_backend.py:4138: The name tf.random_uniform is deprecated. Please use tf.random.uniform instead.\n",
      "\n",
      "W0721 17:36:48.904760 140182200805184 deprecation_wrapper.py:119] From /opt/anaconda3/lib/python3.7/site-packages/keras/backend/tensorflow_backend.py:3976: The name tf.nn.max_pool is deprecated. Please use tf.nn.max_pool2d instead.\n",
      "\n",
      "W0721 17:36:48.950700 140182200805184 deprecation_wrapper.py:119] From /opt/anaconda3/lib/python3.7/site-packages/keras/backend/tensorflow_backend.py:133: The name tf.placeholder_with_default is deprecated. Please use tf.compat.v1.placeholder_with_default instead.\n",
      "\n",
      "W0721 17:36:48.960540 140182200805184 deprecation.py:506] From /opt/anaconda3/lib/python3.7/site-packages/keras/backend/tensorflow_backend.py:3445: calling dropout (from tensorflow.python.ops.nn_ops) with keep_prob is deprecated and will be removed in a future version.\n",
      "Instructions for updating:\n",
      "Please use `rate` instead of `keep_prob`. Rate should be set to `rate = 1 - keep_prob`.\n"
     ]
    }
   ],
   "source": [
    "model=Sequential()\n",
    "\n",
    "#Convolutional Layers \n",
    "model.add(Conv2D(16, (3,3), padding = 'same', strides = (1,1), input_shape=(28,28,1), activation='relu'))\n",
    "model.add(Conv2D(16, (3,3), padding = 'same', strides = (1,1), activation='relu'))\n",
    "\n",
    "#MaxPool Layer\n",
    "model.add(MaxPooling2D(pool_size=(2,2),  strides = (2,2)))\n",
    "\n",
    "#Convolutional Layers\n",
    "model.add(Conv2D(32, (5,5),  strides = (1,1), activation='relu'))\n",
    "model.add(Conv2D(32, (5,5),  strides = (1,1), activation='relu'))\n",
    "\n",
    "#MaxPool Layer\n",
    "model.add(MaxPooling2D(pool_size=(2,2), strides = (2,2)))\n",
    "\n",
    "#Dropout Layer\n",
    "model.add(Dropout(0.3))      \n",
    "model.add(Flatten())\n",
    "\n",
    "#Dense Layer\n",
    "model.add(Dense(1024,activation='relu'))\n",
    "\n",
    "#Output Layer\n",
    "model.add(Dense(num_classes, activation='softmax'))"
   ]
  },
  {
   "cell_type": "markdown",
   "metadata": {},
   "source": [
    "### Model Optimizers"
   ]
  },
  {
   "cell_type": "markdown",
   "metadata": {},
   "source": [
    "Model Loss : Categorical Cross Entropy\n",
    "\n",
    "Model Optimizer : ADAM\n",
    "    \n",
    "Model Metric : Categorical Accuracy"
   ]
  },
  {
   "cell_type": "code",
   "execution_count": 8,
   "metadata": {},
   "outputs": [
    {
     "name": "stderr",
     "output_type": "stream",
     "text": [
      "W0721 17:36:49.081870 140182200805184 deprecation_wrapper.py:119] From /opt/anaconda3/lib/python3.7/site-packages/keras/optimizers.py:790: The name tf.train.Optimizer is deprecated. Please use tf.compat.v1.train.Optimizer instead.\n",
      "\n",
      "W0721 17:36:49.092873 140182200805184 deprecation_wrapper.py:119] From /opt/anaconda3/lib/python3.7/site-packages/keras/backend/tensorflow_backend.py:3295: The name tf.log is deprecated. Please use tf.math.log instead.\n",
      "\n"
     ]
    }
   ],
   "source": [
    "adam = keras.optimizers.Adam(lr=0.001)\n",
    "\n",
    "model.compile(loss='categorical_crossentropy', optimizer=adam, metrics = [keras.metrics.categorical_accuracy])"
   ]
  },
  {
   "cell_type": "markdown",
   "metadata": {},
   "source": [
    "## Model Training"
   ]
  },
  {
   "cell_type": "code",
   "execution_count": 9,
   "metadata": {},
   "outputs": [
    {
     "name": "stderr",
     "output_type": "stream",
     "text": [
      "W0721 17:36:49.251431 140182200805184 deprecation.py:323] From /opt/anaconda3/lib/python3.7/site-packages/tensorflow/python/ops/math_grad.py:1250: add_dispatch_support.<locals>.wrapper (from tensorflow.python.ops.array_ops) is deprecated and will be removed in a future version.\n",
      "Instructions for updating:\n",
      "Use tf.where in 2.0, which has the same broadcast rule as np.where\n"
     ]
    },
    {
     "name": "stdout",
     "output_type": "stream",
     "text": [
      "Train on 32160 samples, validate on 8040 samples\n",
      "Epoch 1/25\n",
      "32160/32160 [==============================] - 20s 631us/step - loss: 0.7762 - categorical_accuracy: 0.7162 - val_loss: 0.4825 - val_categorical_accuracy: 0.8182\n",
      "Epoch 2/25\n",
      "32160/32160 [==============================] - 19s 582us/step - loss: 0.4747 - categorical_accuracy: 0.8267 - val_loss: 0.4111 - val_categorical_accuracy: 0.8494\n",
      "Epoch 3/25\n",
      "32160/32160 [==============================] - 17s 539us/step - loss: 0.4010 - categorical_accuracy: 0.8530 - val_loss: 0.3575 - val_categorical_accuracy: 0.8706\n",
      "Epoch 4/25\n",
      "32160/32160 [==============================] - 19s 587us/step - loss: 0.3565 - categorical_accuracy: 0.8704 - val_loss: 0.3200 - val_categorical_accuracy: 0.8810\n",
      "Epoch 5/25\n",
      "32160/32160 [==============================] - 16s 502us/step - loss: 0.3323 - categorical_accuracy: 0.8785 - val_loss: 0.2901 - val_categorical_accuracy: 0.8923\n",
      "Epoch 6/25\n",
      "32160/32160 [==============================] - 18s 573us/step - loss: 0.3072 - categorical_accuracy: 0.8886 - val_loss: 0.2995 - val_categorical_accuracy: 0.8868\n",
      "Epoch 7/25\n",
      "32160/32160 [==============================] - 17s 529us/step - loss: 0.2814 - categorical_accuracy: 0.8982 - val_loss: 0.2669 - val_categorical_accuracy: 0.9010\n",
      "Epoch 8/25\n",
      "32160/32160 [==============================] - 22s 673us/step - loss: 0.2680 - categorical_accuracy: 0.9016 - val_loss: 0.2590 - val_categorical_accuracy: 0.9041\n",
      "Epoch 9/25\n",
      "32160/32160 [==============================] - 32s 1ms/step - loss: 0.2561 - categorical_accuracy: 0.9069 - val_loss: 0.2575 - val_categorical_accuracy: 0.9087\n",
      "Epoch 10/25\n",
      "32160/32160 [==============================] - 34s 1ms/step - loss: 0.2452 - categorical_accuracy: 0.9100 - val_loss: 0.2562 - val_categorical_accuracy: 0.9062\n",
      "Epoch 11/25\n",
      "32160/32160 [==============================] - 21s 651us/step - loss: 0.2335 - categorical_accuracy: 0.9146 - val_loss: 0.2593 - val_categorical_accuracy: 0.9055\n",
      "Epoch 12/25\n",
      "32160/32160 [==============================] - 16s 504us/step - loss: 0.2252 - categorical_accuracy: 0.9179 - val_loss: 0.2400 - val_categorical_accuracy: 0.9111\n",
      "Epoch 13/25\n",
      "32160/32160 [==============================] - 15s 475us/step - loss: 0.2093 - categorical_accuracy: 0.9239 - val_loss: 0.2360 - val_categorical_accuracy: 0.9106\n",
      "Epoch 14/25\n",
      "32160/32160 [==============================] - 13s 417us/step - loss: 0.2073 - categorical_accuracy: 0.9241 - val_loss: 0.2461 - val_categorical_accuracy: 0.9104\n",
      "Epoch 15/25\n",
      "32160/32160 [==============================] - 13s 413us/step - loss: 0.1941 - categorical_accuracy: 0.9275 - val_loss: 0.2349 - val_categorical_accuracy: 0.9111\n",
      "Epoch 16/25\n",
      "32160/32160 [==============================] - 12s 383us/step - loss: 0.1881 - categorical_accuracy: 0.9298 - val_loss: 0.2430 - val_categorical_accuracy: 0.9104\n",
      "Epoch 17/25\n",
      "32160/32160 [==============================] - 10s 303us/step - loss: 0.1796 - categorical_accuracy: 0.9344 - val_loss: 0.2368 - val_categorical_accuracy: 0.9167\n",
      "Epoch 18/25\n",
      "32160/32160 [==============================] - 9s 294us/step - loss: 0.1730 - categorical_accuracy: 0.9349 - val_loss: 0.2331 - val_categorical_accuracy: 0.9149\n",
      "Epoch 19/25\n",
      "32160/32160 [==============================] - 9s 274us/step - loss: 0.1647 - categorical_accuracy: 0.9370 - val_loss: 0.2493 - val_categorical_accuracy: 0.9052\n",
      "Epoch 20/25\n",
      "32160/32160 [==============================] - 12s 366us/step - loss: 0.1601 - categorical_accuracy: 0.9406 - val_loss: 0.2313 - val_categorical_accuracy: 0.9147\n",
      "Epoch 21/25\n",
      "32160/32160 [==============================] - 10s 298us/step - loss: 0.1538 - categorical_accuracy: 0.9425 - val_loss: 0.2388 - val_categorical_accuracy: 0.9149\n",
      "Epoch 22/25\n",
      "32160/32160 [==============================] - 10s 316us/step - loss: 0.1416 - categorical_accuracy: 0.9471 - val_loss: 0.2469 - val_categorical_accuracy: 0.9132\n",
      "Epoch 23/25\n",
      "32160/32160 [==============================] - 12s 369us/step - loss: 0.1463 - categorical_accuracy: 0.9437 - val_loss: 0.2438 - val_categorical_accuracy: 0.9150\n",
      "Epoch 24/25\n",
      "32160/32160 [==============================] - 12s 371us/step - loss: 0.1370 - categorical_accuracy: 0.9475 - val_loss: 0.2436 - val_categorical_accuracy: 0.9154\n",
      "Epoch 25/25\n",
      "32160/32160 [==============================] - 13s 402us/step - loss: 0.1274 - categorical_accuracy: 0.9511 - val_loss: 0.2459 - val_categorical_accuracy: 0.9164\n"
     ]
    }
   ],
   "source": [
    "history =  model.fit(X_train, Y_train, validation_split = 0.2 , epochs=25, batch_size=200,verbose=1)"
   ]
  },
  {
   "cell_type": "markdown",
   "metadata": {},
   "source": [
    "## Model Evaluation"
   ]
  },
  {
   "cell_type": "code",
   "execution_count": 11,
   "metadata": {},
   "outputs": [
    {
     "name": "stdout",
     "output_type": "stream",
     "text": [
      " CNN Validation set Loss :  0.24544540431764392\n",
      " CNN Validation set Accuracy :  0.9162121211880385\n"
     ]
    }
   ],
   "source": [
    "scores = model.evaluate(X_val, Y_val, verbose=0)\n",
    "\n",
    "print(\" CNN Validation set Loss : \", (scores[0]))\n",
    "print(\" CNN Validation set Accuracy : \", (scores[1]))"
   ]
  },
  {
   "cell_type": "code",
   "execution_count": 18,
   "metadata": {},
   "outputs": [
    {
     "data": {
      "image/png": "[encoded data removed]",
      "text/plain": [
       "<Figure size 1440x576 with 2 Axes>"
      ]
     },
     "metadata": {
      "needs_background": "light"
     },
     "output_type": "display_data"
    }
   ],
   "source": [
    "import matplotlib.pyplot as plt\n",
    "# Plot training & validation accuracy values\n",
    "\n",
    "fig, (ax0, ax1) = plt.subplots(nrows=1, ncols=2, constrained_layout=False, figsize=(20,8))\n",
    "\n",
    "\n",
    "ax0.plot(history.history['categorical_accuracy'])\n",
    "ax0.plot(history.history['val_categorical_accuracy'])\n",
    "ax0.set_title('Model Accuracy')\n",
    "ax0.set_ylabel('Accuracy')\n",
    "ax0.set_xlabel('Epoch')\n",
    "ax0.legend(['Train', 'Test'], loc='upper left')\n",
    "\n",
    "\n",
    "ax1.plot(history.history['loss'])\n",
    "ax1.plot(history.history['val_loss'])\n",
    "ax1.set_title('Model Loss')\n",
    "ax1.set_ylabel('Loss')\n",
    "ax1.set_xlabel('Epoch')\n",
    "ax1.legend(['Train', 'Test'], loc='upper left')\n",
    "\n",
    "\n",
    "plt.show()"
   ]
  },
  {
   "cell_type": "markdown",
   "metadata": {},
   "source": [
    "Observable that the model starts to over after **8th epoch**"
   ]
  },
  {
   "cell_type": "markdown",
   "metadata": {},
   "source": [
    "## Training model on full Train set"
   ]
  },
  {
   "cell_type": "code",
   "execution_count": 13,
   "metadata": {},
   "outputs": [],
   "source": [
    "model1=Sequential()\n",
    "\n",
    "#Convolutional Layers \n",
    "model1.add(Conv2D(16, (3,3), padding = 'same', strides = (1,1), input_shape=(28,28,1), activation='relu'))\n",
    "model1.add(Conv2D(16, (3,3), padding = 'same', strides = (1,1), activation='relu'))\n",
    "\n",
    "#MaxPool Layer\n",
    "model1.add(MaxPooling2D(pool_size=(2,2),  strides = (2,2)))\n",
    "\n",
    "#Convolutional Layers\n",
    "model1.add(Conv2D(32, (5,5),  strides = (1,1), activation='relu'))\n",
    "model1.add(Conv2D(32, (5,5),  strides = (1,1), activation='relu'))\n",
    "\n",
    "#MaxPool Layer\n",
    "model1.add(MaxPooling2D(pool_size=(2,2), strides = (2,2)))\n",
    "\n",
    "#Dropout Layer\n",
    "model1.add(Dropout(0.3))      \n",
    "model1.add(Flatten())\n",
    "\n",
    "#Dense Layer\n",
    "model1.add(Dense(1024,activation='relu'))\n",
    "\n",
    "#Output Layer\n",
    "model1.add(Dense(num_classes, activation='softmax'))"
   ]
  },
  {
   "cell_type": "code",
   "execution_count": 14,
   "metadata": {},
   "outputs": [],
   "source": [
    "adam = keras.optimizers.Adam(lr=0.001)\n",
    "\n",
    "model1.compile(loss='categorical_crossentropy', optimizer=adam, metrics = [keras.metrics.categorical_accuracy])"
   ]
  },
  {
   "cell_type": "code",
   "execution_count": 15,
   "metadata": {},
   "outputs": [
    {
     "name": "stdout",
     "output_type": "stream",
     "text": [
      "Train on 48000 samples, validate on 12000 samples\n",
      "Epoch 1/10\n",
      "48000/48000 [==============================] - 21s 435us/step - loss: 0.6983 - categorical_accuracy: 0.7427 - val_loss: 0.4475 - val_categorical_accuracy: 0.8301\n",
      "Epoch 2/10\n",
      "48000/48000 [==============================] - 24s 490us/step - loss: 0.4204 - categorical_accuracy: 0.8459 - val_loss: 0.3518 - val_categorical_accuracy: 0.8730\n",
      "Epoch 3/10\n",
      "48000/48000 [==============================] - 21s 439us/step - loss: 0.3590 - categorical_accuracy: 0.8703 - val_loss: 0.3124 - val_categorical_accuracy: 0.8886\n",
      "Epoch 4/10\n",
      "48000/48000 [==============================] - 21s 430us/step - loss: 0.3207 - categorical_accuracy: 0.8823 - val_loss: 0.2989 - val_categorical_accuracy: 0.8885\n",
      "Epoch 5/10\n",
      "48000/48000 [==============================] - 16s 335us/step - loss: 0.2930 - categorical_accuracy: 0.8924 - val_loss: 0.2712 - val_categorical_accuracy: 0.9032\n",
      "Epoch 6/10\n",
      "48000/48000 [==============================] - 14s 286us/step - loss: 0.2782 - categorical_accuracy: 0.8969 - val_loss: 0.2579 - val_categorical_accuracy: 0.9077\n",
      "Epoch 7/10\n",
      "48000/48000 [==============================] - 18s 385us/step - loss: 0.2575 - categorical_accuracy: 0.9056 - val_loss: 0.2494 - val_categorical_accuracy: 0.9058\n",
      "Epoch 8/10\n",
      "48000/48000 [==============================] - 28s 591us/step - loss: 0.2428 - categorical_accuracy: 0.9102 - val_loss: 0.2407 - val_categorical_accuracy: 0.9129\n",
      "Epoch 9/10\n",
      "48000/48000 [==============================] - 28s 585us/step - loss: 0.2318 - categorical_accuracy: 0.9137 - val_loss: 0.2358 - val_categorical_accuracy: 0.9141\n",
      "Epoch 10/10\n",
      "48000/48000 [==============================] - 22s 456us/step - loss: 0.2216 - categorical_accuracy: 0.9195 - val_loss: 0.2396 - val_categorical_accuracy: 0.9130\n"
     ]
    }
   ],
   "source": [
    "history1 = model1.fit(Train_data, Train_labels, validation_split = 0.2 , epochs=10, batch_size=200,verbose=1)"
   ]
  },
  {
   "cell_type": "markdown",
   "metadata": {},
   "source": [
    "Saving predicted values"
   ]
  },
  {
   "cell_type": "code",
   "execution_count": 16,
   "metadata": {},
   "outputs": [],
   "source": [
    "Y_pred_raw = model1.predict(Test_data)\n",
    "Y_pred_round = pd.DataFrame(Y_pred_raw).round(decimals = 0)\n",
    "Y_pred = np.array((Y_pred_round.iloc[:,1:]==1).idxmax(1))\n",
    "\n",
    "\n",
    "np.save('Labels.npy', Y_pred)"
   ]
  },
  {
   "cell_type": "markdown",
   "metadata": {},
   "source": [
    "Saving model and weights"
   ]
  },
  {
   "cell_type": "code",
   "execution_count": null,
   "metadata": {},
   "outputs": [],
   "source": [
    "model_json = model1.to_json()\n",
    "with open(\"Final_model_json\",\"w\") as json_file:\n",
    "    json_file.write(model_json)\n",
    "    \n",
    "model1.save_weights(\"Model_params.h5\")"
   ]
  },
  {
   "cell_type": "code",
   "execution_count": null,
   "metadata": {},
   "outputs": [],
   "source": []
  }
 ],
 "metadata": {
  "kernelspec": {
   "display_name": "Python 3",
   "language": "python",
   "name": "python3"
  },
  "language_info": {
   "codemirror_mode": {
    "name": "ipython",
    "version": 3
   },
   "file_extension": ".py",
   "mimetype": "text/x-python",
   "name": "python",
   "nbconvert_exporter": "python",
   "pygments_lexer": "ipython3",
   "version": "3.7.1"
  }
 },
 "nbformat": 4,
 "nbformat_minor": 2
}
